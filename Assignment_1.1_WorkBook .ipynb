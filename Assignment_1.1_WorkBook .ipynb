{
 "cells": [
  {
   "cell_type": "code",
   "execution_count": 1,
   "id": "fa402dfe",
   "metadata": {},
   "outputs": [],
   "source": [
    "#Loading Necessary Packages\n",
    "# This is used to access Python interactive environment. This way we can feed input and receive output as we code.\n",
    "from IPython.core.interactiveshell import InteractiveShell\n",
    "InteractiveShell.ast_node_interactivity = \"all\"\n",
    "\n",
    "import pandas as pd #this package will be used for managing dataframes and excel sheets\n",
    "import numpy as np #this will be used to do math operations as discussed in previous tutorials\n",
    "import matplotlib.pyplot as plt \n"
   ]
  },
  {
   "cell_type": "code",
   "execution_count": 5,
   "id": "14ecdbbb",
   "metadata": {},
   "outputs": [],
   "source": [
    "SamplingRate = 1024\n",
    "raw_EEG = pd.read_excel(\"REM_Baseline_Practice.xlsx\", sheet_name = None) #load raw EEGs for 1 trial from an excel sheet \n",
    "eeg_arrays = [df.values for df in raw_EEG.values()] #array of raw EEG values"
   ]
  }
 ],
 "metadata": {
  "kernelspec": {
   "display_name": "Python 3 (ipykernel)",
   "language": "python",
   "name": "python3"
  },
  "language_info": {
   "codemirror_mode": {
    "name": "ipython",
    "version": 3
   },
   "file_extension": ".py",
   "mimetype": "text/x-python",
   "name": "python",
   "nbconvert_exporter": "python",
   "pygments_lexer": "ipython3",
   "version": "3.12.11"
  }
 },
 "nbformat": 4,
 "nbformat_minor": 5
}
